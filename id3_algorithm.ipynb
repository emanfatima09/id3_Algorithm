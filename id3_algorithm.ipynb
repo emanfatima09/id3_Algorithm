{
 "cells": [
  {
   "cell_type": "code",
   "execution_count": 1,
   "id": "3bab98f9",
   "metadata": {},
   "outputs": [
    {
     "name": "stdout",
     "output_type": "stream",
     "text": [
      "{'outlook': {'overcast': 'yes', 'rain': {'wind': {'strong': 'no', 'weak': 'yes'}}, 'sunny': {'humidity': {'high': 'no', 'normal': 'yes'}}}}\n"
     ]
    }
   ],
   "source": [
    "import pandas as pd\n",
    "import numpy as np\n",
    "\n",
    "\n",
    "dataset_path = r'C:\\Users\\92318\\Downloads\\3-dataset.csv'\n",
    "df = pd.read_csv(dataset_path)\n",
    "\n",
    "\n",
    "def entropy(attribute):\n",
    "    unique_values, counts = np.unique(attribute, return_counts=True)\n",
    "    probabilities = counts / np.sum(counts)\n",
    "    entropy_value = -np.sum(probabilities * np.log2(probabilities))\n",
    "    return entropy_value\n",
    "\n",
    "\n",
    "def information_gain(data, attribute_name, target_name):\n",
    "    total_entropy = entropy(data[target_name])\n",
    "    attribute_values, value_counts = np.unique(data[attribute_name], return_counts=True)\n",
    "    weighted_entropy = np.sum([(value_counts[i] / np.sum(value_counts)) *\n",
    "                               entropy(data.where(data[attribute_name] == attribute_values[i]).dropna()[target_name])\n",
    "                               for i in range(len(attribute_values))])\n",
    "    information_gain_value = total_entropy - weighted_entropy\n",
    "    return information_gain_value\n",
    "\n",
    "\n",
    "def find_best_attribute(data, target_name):\n",
    "    attributes = list(data.columns)\n",
    "    attributes.remove(target_name)\n",
    "    information_gains = [information_gain(data, attribute, target_name) for attribute in attributes]\n",
    "    best_attribute_index = np.argmax(information_gains)\n",
    "    best_attribute = attributes[best_attribute_index]\n",
    "    return best_attribute\n",
    "\n",
    "\n",
    "def build_decision_tree(data, target_name, parent_node_class=None):\n",
    "    \n",
    "    if len(np.unique(data[target_name])) <= 1:\n",
    "        return np.unique(data[target_name])[0]\n",
    "    \n",
    "    \n",
    "    if len(data.drop(target_name, axis=1).columns) == 0:\n",
    "        return parent_node_class\n",
    "    \n",
    "    \n",
    "    best_attribute = find_best_attribute(data, target_name)\n",
    "    tree = {best_attribute: {}}\n",
    "    \n",
    "    for attribute_value in np.unique(data[best_attribute]):\n",
    "        sub_data = data.where(data[best_attribute] == attribute_value).dropna()\n",
    "        subtree = build_decision_tree(sub_data, target_name, np.unique(data[target_name])[0])\n",
    "        tree[best_attribute][attribute_value] = subtree\n",
    "    \n",
    "    return tree\n",
    "\n",
    "\n",
    "target_name = df.columns[-1]\n",
    "decision_tree = build_decision_tree(df, target_name)\n",
    "\n",
    "\n",
    "print(decision_tree)\n"
   ]
  },
  {
   "cell_type": "code",
   "execution_count": null,
   "id": "a350673a",
   "metadata": {},
   "outputs": [],
   "source": []
  }
 ],
 "metadata": {
  "kernelspec": {
   "display_name": "Python 3 (ipykernel)",
   "language": "python",
   "name": "python3"
  },
  "language_info": {
   "codemirror_mode": {
    "name": "ipython",
    "version": 3
   },
   "file_extension": ".py",
   "mimetype": "text/x-python",
   "name": "python",
   "nbconvert_exporter": "python",
   "pygments_lexer": "ipython3",
   "version": "3.9.7"
  }
 },
 "nbformat": 4,
 "nbformat_minor": 5
}
